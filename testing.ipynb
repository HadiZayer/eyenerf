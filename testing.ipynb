{
 "cells": [
  {
   "cell_type": "code",
   "execution_count": null,
   "metadata": {},
   "outputs": [],
   "source": [
    "%load_ext autoreload \n",
    "%autoreload 2"
   ]
  },
  {
   "cell_type": "code",
   "execution_count": null,
   "metadata": {},
   "outputs": [],
   "source": [
    "from eyenerf.eyenerf_dataparser import EyenerfDataParserConfig\n",
    "from eyenerf.eyenerf_datamanager import EyenerfDataManagerConfig, EyenerfDataManager\n",
    "\n",
    "from pathlib import Path\n",
    "import torch\n",
    "import plotly.graph_objects as go\n",
    "from utils_debug import *"
   ]
  },
  {
   "cell_type": "code",
   "execution_count": null,
   "metadata": {},
   "outputs": [],
   "source": [
    "data_path = \"/vulcanscratch/kzhang/data/rf_in_an_eye/amir_2\"\n",
    "data_path = \"/vulcanscratch/kzhang/data/rf_in_an_eye/synthetic_data/no_iris/renders/barbershop_interior_flip\"\n",
    "edp_path = Path(data_path)\n",
    "\n",
    "edp_cfg = EyenerfDataParserConfig(data=edp_path)\n",
    "cdm_cfg = EyenerfDataManagerConfig(dataparser=edp_cfg, \n",
    "                                  radius_noise_level=0.0, \n",
    "                                  radius_noise_clipping=0.0, \n",
    "                                  hardcoded_xyz=False,\n",
    "                                  hardcoded_xy=False,\n",
    "                                  hardcoded_rotations=False,\n",
    "                                  rotation_noise_level=0.0,\n",
    "                                  )"
   ]
  },
  {
   "cell_type": "code",
   "execution_count": null,
   "metadata": {},
   "outputs": [],
   "source": [
    "edm = EyenerfDataManager(config=cdm_cfg, device=\"cuda\")"
   ]
  },
  {
   "cell_type": "code",
   "execution_count": null,
   "metadata": {},
   "outputs": [],
   "source": [
    "edm.base_dir = \"/scratch0\"\n",
    "c_rb, c_r_gt, c_img_batch, geom_data, normals_fixed, old_rays_o, old_rays_d, depths, normals_recomputed, isect_pts = edm.next_train(0, debug=True)\n"
   ]
  },
  {
   "cell_type": "code",
   "execution_count": null,
   "metadata": {},
   "outputs": [],
   "source": [
    "os = c_rb.origins.cpu()\n",
    "# os = cdm.cornea_rays_o\n",
    "vs = c_rb.directions\n",
    "lens = torch.ones_like(os)[..., :1] * 0.1"
   ]
  },
  {
   "cell_type": "code",
   "execution_count": null,
   "metadata": {},
   "outputs": [],
   "source": [
    "fig = go.Figure()\n",
    "plot_vectors(os, vs, 1, lens, fig)\n",
    "fig.show()"
   ]
  },
  {
   "cell_type": "code",
   "execution_count": null,
   "metadata": {},
   "outputs": [],
   "source": [
    "os.shape"
   ]
  },
  {
   "cell_type": "code",
   "execution_count": null,
   "metadata": {},
   "outputs": [],
   "source": []
  }
 ],
 "metadata": {
  "language_info": {
   "name": "python"
  }
 },
 "nbformat": 4,
 "nbformat_minor": 2
}
